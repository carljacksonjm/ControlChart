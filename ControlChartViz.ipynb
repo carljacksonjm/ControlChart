{
 "cells": [
  {
   "cell_type": "code",
   "execution_count": 117,
   "id": "20e534e5",
   "metadata": {},
   "outputs": [],
   "source": [
    "import pandas as pd\n",
    "# import os, tempfile\n",
    "import numpy as np\n",
    "from pathlib import Path\n",
    "import matplotlib.pyplot as plt\n",
    "import seaborn as sns\n",
    "\n",
    "# from PlottingFunctions import *\n",
    "# from datetime import datetime\n",
    "# import time\n",
    "# import xlrd\n",
    "# from openpyxl import load_workbook\n",
    "\n",
    "figure_dir = \"../../../Pictures/FigureDump/\"\n",
    "\n",
    "jm_colors_dict = {\n",
    "    'JM Blue':'#1e22aa',\n",
    "    'JM Purple':'#e50075',\n",
    "    'JM Cyan':'#00abe9','JM Green':'#9dd3cb',\n",
    "    'JM Magenta':'#e3e3e3',\n",
    "    'JM Light Grey':'#575756',\n",
    "    'JM Dark Grey':'#6e358b'\n",
    "}\n",
    "\n",
    "jm_colors_list = list(jm_colors_dict.values())\n",
    "cb_colors_list = sns.color_palette(\"muted\")+sns.color_palette(\"muted\")  # deep, muted, pastel, bright, dark, and colorblind\n",
    "hls_colors_list = sns.color_palette(\"hls\", 8) + sns.color_palette(\"hls\", 8)\n",
    "tab10_colors_list = sns.color_palette(\"tab10\") + sns.color_palette(\"tab10\")\n",
    "\n",
    "marker_list = [\"o\",\"D\",\"<\",\"v\",\"x\",\"X\",\"8\",\"s\",\"^\",\"p\",\"P\",\"*\",\"h\",\"H\",\"+\",\"d\",\"|\",\"_\"]"
   ]
  },
  {
   "cell_type": "code",
   "execution_count": 56,
   "id": "b76c5335",
   "metadata": {},
   "outputs": [
    {
     "data": {
      "text/plain": [
       "Unnamed: 0      int64\n",
       "1             float64\n",
       "2             float64\n",
       "3             float64\n",
       "4             float64\n",
       "5             float64\n",
       "6             float64\n",
       "7             float64\n",
       "8             float64\n",
       "sample_no       int64\n",
       "dtype: object"
      ]
     },
     "execution_count": 56,
     "metadata": {},
     "output_type": "execute_result"
    }
   ],
   "source": [
    "dir_path = Path(\"C:/Users/JacksC01/OneDrive - Johnson Matthey/Documents/DigitalModelling/Misc\")\n",
    "\n",
    "file_name = \"carolina_table_0_1.csv\"\n",
    "file_full = dir_path / file_name\n",
    "\n",
    "df = pd.read_csv(file_full)\n",
    "df[\"sample_no\"] = df.index\n",
    "\n",
    "df.dtypes\n",
    "# display(df)"
   ]
  },
  {
   "cell_type": "code",
   "execution_count": 91,
   "id": "9d2f2265",
   "metadata": {},
   "outputs": [
    {
     "data": {
      "text/html": [
       "<div>\n",
       "<style scoped>\n",
       "    .dataframe tbody tr th:only-of-type {\n",
       "        vertical-align: middle;\n",
       "    }\n",
       "\n",
       "    .dataframe tbody tr th {\n",
       "        vertical-align: top;\n",
       "    }\n",
       "\n",
       "    .dataframe thead th {\n",
       "        text-align: right;\n",
       "    }\n",
       "</style>\n",
       "<table border=\"1\" class=\"dataframe\">\n",
       "  <thead>\n",
       "    <tr style=\"text-align: right;\">\n",
       "      <th></th>\n",
       "      <th>sample_no</th>\n",
       "      <th>test</th>\n",
       "      <th>value</th>\n",
       "    </tr>\n",
       "  </thead>\n",
       "  <tbody>\n",
       "    <tr>\n",
       "      <th>21</th>\n",
       "      <td>22</td>\n",
       "      <td>1</td>\n",
       "      <td>1.0</td>\n",
       "    </tr>\n",
       "    <tr>\n",
       "      <th>32</th>\n",
       "      <td>33</td>\n",
       "      <td>1</td>\n",
       "      <td>1.0</td>\n",
       "    </tr>\n",
       "    <tr>\n",
       "      <th>42</th>\n",
       "      <td>43</td>\n",
       "      <td>1</td>\n",
       "      <td>1.0</td>\n",
       "    </tr>\n",
       "    <tr>\n",
       "      <th>51</th>\n",
       "      <td>52</td>\n",
       "      <td>1</td>\n",
       "      <td>1.0</td>\n",
       "    </tr>\n",
       "    <tr>\n",
       "      <th>54</th>\n",
       "      <td>55</td>\n",
       "      <td>1</td>\n",
       "      <td>1.0</td>\n",
       "    </tr>\n",
       "    <tr>\n",
       "      <th>...</th>\n",
       "      <td>...</td>\n",
       "      <td>...</td>\n",
       "      <td>...</td>\n",
       "    </tr>\n",
       "    <tr>\n",
       "      <th>1128</th>\n",
       "      <td>124</td>\n",
       "      <td>6</td>\n",
       "      <td>1.0</td>\n",
       "    </tr>\n",
       "    <tr>\n",
       "      <th>1129</th>\n",
       "      <td>125</td>\n",
       "      <td>6</td>\n",
       "      <td>1.0</td>\n",
       "    </tr>\n",
       "    <tr>\n",
       "      <th>1130</th>\n",
       "      <td>126</td>\n",
       "      <td>6</td>\n",
       "      <td>1.0</td>\n",
       "    </tr>\n",
       "    <tr>\n",
       "      <th>1131</th>\n",
       "      <td>127</td>\n",
       "      <td>6</td>\n",
       "      <td>1.0</td>\n",
       "    </tr>\n",
       "    <tr>\n",
       "      <th>1529</th>\n",
       "      <td>123</td>\n",
       "      <td>8</td>\n",
       "      <td>1.0</td>\n",
       "    </tr>\n",
       "  </tbody>\n",
       "</table>\n",
       "<p>78 rows × 3 columns</p>\n",
       "</div>"
      ],
      "text/plain": [
       "      sample_no  test  value\n",
       "21           22     1    1.0\n",
       "32           33     1    1.0\n",
       "42           43     1    1.0\n",
       "51           52     1    1.0\n",
       "54           55     1    1.0\n",
       "...         ...   ...    ...\n",
       "1128        124     6    1.0\n",
       "1129        125     6    1.0\n",
       "1130        126     6    1.0\n",
       "1131        127     6    1.0\n",
       "1529        123     8    1.0\n",
       "\n",
       "[78 rows x 3 columns]"
      ]
     },
     "metadata": {},
     "output_type": "display_data"
    }
   ],
   "source": [
    "df_clean = df[(df.T != 0).any()] # drop samples that have no signals\n",
    "\n",
    "# melt dataframe into [sample_no, test, value]\n",
    "test_cols = ['1', '2', '3', '4', '5', '6', '7', '8']\n",
    "df_melt = pd.melt(df_clean, id_vars = \"sample_no\", value_vars = test_cols, var_name = \"test\")\n",
    "df_melt.test = df_melt[['test','sample_no']].astype(int)\n",
    "\n",
    "df_plot = df_melt.loc[df_melt.value > 0] # drop rows without signals\n",
    "df_plot.sort_values(by = [\"test\", \"sample_no\"], ascending = True)\n",
    "display(df_plot)"
   ]
  },
  {
   "cell_type": "code",
   "execution_count": 123,
   "id": "8537d5e0",
   "metadata": {},
   "outputs": [
    {
     "data": {
      "image/png": "[encoded data removed]",
      "text/plain": [
       "<Figure size 600x600 with 1 Axes>"
      ]
     },
     "metadata": {
      "needs_background": "light"
     },
     "output_type": "display_data"
    }
   ],
   "source": [
    "fig, ax = plt.subplots(figsize = (6, 6), dpi = 100)\n",
    "\n",
    "sns.stripplot(x = \"test\", y = \"sample_no\", hue = \"test\",\n",
    "            data = df_plot, palette = tab10_colors_list,\n",
    "            dodge = False, jitter = False,\n",
    "            color = \"black\", s = 7, alpha = 0.4, marker = markers_list[0],\n",
    "            orient = \"v\", ax = ax)\n",
    "\n",
    "title_var = \"Special Causes Signal Map\"\n",
    "image_name = figure_dir + title_var.replace(\" \", \"\") + \".png\"\n",
    "\n",
    "plt.legend(title = \"Nelson Test\",\n",
    "           bbox_to_anchor=(1.3, 1), frameon = False)\n",
    "\n",
    "plt.title(title_var)\n",
    "ax.set(ylabel = \"Sample No.\")\n",
    "ax.set(xlabel = \"Nelson Test\")\n",
    "plt.tight_layout()\n",
    "\n",
    "plt.grid(axis = \"y\", which = \"both\")\n",
    "\n",
    "plt.savefig(image_name, facecolor='w')\n",
    "\n",
    "plt.show()"
   ]
  }
 ],
 "metadata": {
  "kernelspec": {
   "display_name": "Python 3",
   "language": "python",
   "name": "python3"
  },
  "language_info": {
   "codemirror_mode": {
    "name": "ipython",
    "version": 3
   },
   "file_extension": ".py",
   "mimetype": "text/x-python",
   "name": "python",
   "nbconvert_exporter": "python",
   "pygments_lexer": "ipython3",
   "version": "3.7.10"
  },
  "varInspector": {
   "cols": {
    "lenName": 16,
    "lenType": 16,
    "lenVar": 40
   },
   "kernels_config": {
    "python": {
     "delete_cmd_postfix": "",
     "delete_cmd_prefix": "del ",
     "library": "var_list.py",
     "varRefreshCmd": "print(var_dic_list())"
    },
    "r": {
     "delete_cmd_postfix": ") ",
     "delete_cmd_prefix": "rm(",
     "library": "var_list.r",
     "varRefreshCmd": "cat(var_dic_list()) "
    }
   },
   "types_to_exclude": [
    "module",
    "function",
    "builtin_function_or_method",
    "instance",
    "_Feature"
   ],
   "window_display": false
  }
 },
 "nbformat": 4,
 "nbformat_minor": 5
}
